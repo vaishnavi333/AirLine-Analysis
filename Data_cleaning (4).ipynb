{
 "cells": [
  {
   "cell_type": "code",
   "execution_count": 11,
   "id": "c2534eb7-42f0-4f52-9d84-c551e8a3d0df",
   "metadata": {},
   "outputs": [],
   "source": [
    "import pandas as pd\n",
    "\n",
    "# Read the datasets\n",
    "airport_info_df = pd.read_excel('1.airport_info.xlsx')\n",
    "flight_info_df = pd.read_excel('2.flight_info.xlsx')\n",
    "airline_delay_df = pd.read_excel('3.airline_delay.xlsx')\n",
    "airline_codes_df = pd.read_excel('4.airline_codes.xlsx')\n",
    "cancelled_flights_df = pd.read_excel('5.cancelled_flights.xlsx')\n",
    "\n",
    "# Clean Airport Information Table\n",
    "airport_info_df.dropna(inplace=True)\n",
    "# Making airport code to capitals\n",
    "airport_info_df['Airport_code'] = airport_info_df['Airport_code'].str.upper()  \n",
    "\n",
    "\n",
    "# Clean Flight Information Table\n",
    "flight_info_df.dropna(inplace=True)\n",
    "flight_info_df['MONTH'] = flight_info_df['MONTH'].astype(int)\n",
    "flight_info_df['SCHEDULED_DEPARTURE_TIME'] = flight_info_df['SCHEDULED_DEPARTURE_TIME'].astype(int)\n",
    "flight_info_df['NUMBER_OF_OPERATIONS_REPORTED'] = flight_info_df['NUMBER_OF_OPERATIONS_REPORTED'].astype(int)\n",
    "flight_info_df['NUMBER_OF_FLIGHT_OPERATIONS_NOT_ARRIVING_ON_TIME'] = flight_info_df['NUMBER_OF_FLIGHT_OPERATIONS_NOT_ARRIVING_ON_TIME'].astype(int)\n",
    "flight_info_df.drop_duplicates(inplace=True)  # Remove duplicates\n",
    "\n",
    "# Clean Airline Delay and Causes Table\n",
    "airline_delay_df['Year'] = airline_delay_df['Year'].astype(int)\n",
    "airline_delay_df['Month'] = airline_delay_df['Month'].astype(int)\n",
    "airline_delay_df.drop_duplicates(inplace=True)  # Remove duplicates\n",
    "\n",
    "# Clean Airline Codes Table\n",
    "airline_codes_df.dropna(inplace=True)\n",
    "#Making carrier to capitals\n",
    "airline_codes_df['CARRIER'] = airline_codes_df['CARRIER'].str.upper()  \n",
    "airline_codes_df.drop_duplicates(inplace=True)  # Remove duplicates\n",
    "\n",
    "# Clean Cancelled Flights Table\n",
    "cancelled_flights_df.dropna(inplace=True)\n",
    "cancelled_flights_df['Month'] = cancelled_flights_df['Month'].astype(int)\n",
    "cancelled_flights_df.drop_duplicates(inplace=True)  # Remove duplicates\n",
    "cancelled_flights_df['Percent_Cancelled'] = cancelled_flights_df['Number Cancelled'] / cancelled_flights_df['Total Operations'] * 100\n",
    "\n",
    "# Save cleaned datasets to Excel files\n",
    "airport_info_df.to_excel('cleaned_airport_info.xlsx', index=False)\n",
    "flight_info_df.to_excel('cleaned_flight_info.xlsx', index=False)\n",
    "airline_delay_df.to_excel('cleaned_airline_delay.xlsx', index=False)\n",
    "airline_codes_df.to_excel('cleaned_airline_codes.xlsx', index=False)\n",
    "cancelled_flights_df.to_excel('cleaned_cancelled_flights.xlsx', index=False)\n"
   ]
  },
  {
   "cell_type": "code",
   "execution_count": null,
   "id": "9b0ab0e7-cf05-413f-9745-c970b9ae7959",
   "metadata": {},
   "outputs": [],
   "source": []
  }
 ],
 "metadata": {
  "kernelspec": {
   "display_name": "Python 3 (ipykernel)",
   "language": "python",
   "name": "python3"
  },
  "language_info": {
   "codemirror_mode": {
    "name": "ipython",
    "version": 3
   },
   "file_extension": ".py",
   "mimetype": "text/x-python",
   "name": "python",
   "nbconvert_exporter": "python",
   "pygments_lexer": "ipython3",
   "version": "3.12.1"
  }
 },
 "nbformat": 4,
 "nbformat_minor": 5
}
